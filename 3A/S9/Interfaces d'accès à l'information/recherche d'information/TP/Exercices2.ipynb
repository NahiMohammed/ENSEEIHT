{
 "cells": [
  {
   "cell_type": "markdown",
   "id": "df252c16-1ce8-4bd4-a373-6d6eb1e5f653",
   "metadata": {},
   "source": [
    "## Execice 2 : Utilisation de transformers pour les deux datasets"
   ]
  },
  {
   "cell_type": "markdown",
   "id": "9a205a5c-bcfe-4492-8d8b-b725e7c416bd",
   "metadata": {},
   "source": [
    "### 2.1 :  Utilisation d'un transformer prêt à l'emploi"
   ]
  },
  {
   "cell_type": "code",
   "execution_count": 5,
   "id": "46658c82-2760-4805-a710-01cedd8c8236",
   "metadata": {},
   "outputs": [
    {
     "name": "stderr",
     "output_type": "stream",
     "text": [
      "Some weights of DistilBertForSequenceClassification were not initialized from the model checkpoint at distilbert-base-uncased and are newly initialized: ['classifier.bias', 'classifier.weight', 'pre_classifier.bias', 'pre_classifier.weight']\n",
      "You should probably TRAIN this model on a down-stream task to be able to use it for predictions and inference.\n",
      "Device set to use cpu\n"
     ]
    },
    {
     "name": "stdout",
     "output_type": "stream",
     "text": [
      "Transformers Pipeline:\n",
      "               precision    recall  f1-score   support\n",
      "\n",
      "           0       0.65      0.08      0.13       346\n",
      "           1       0.58      0.97      0.73       459\n",
      "\n",
      "    accuracy                           0.59       805\n",
      "   macro avg       0.62      0.52      0.43       805\n",
      "weighted avg       0.61      0.59      0.47       805\n",
      "\n"
     ]
    }
   ],
   "source": [
    "import pandas as pd\n",
    "from sklearn.model_selection import train_test_split\n",
    "from sklearn.metrics import classification_report\n",
    "from transformers import pipeline\n",
    "\n",
    "# Charger le dataset\n",
    "df = pd.read_csv(\"data_fake_news_en.csv\")\n",
    "\n",
    "# Nettoyer et préparer les données\n",
    "df = df.dropna(subset=['text', 'label'])  # Supprimer les lignes avec valeurs manquantes\n",
    "df = df[(df['text'].str.len() > 20) & (df['text'].str.len() < 512)]  # Filtrer par longueur\n",
    "train_texts, test_texts, train_labels, test_labels = train_test_split(\n",
    "    df['text'], df['label'], test_size=0.2, random_state=42\n",
    ")\n",
    "\n",
    "# Charger le pipeline Transformers\n",
    "classifier = pipeline(\"text-classification\", model=\"distilbert-base-uncased\", device=0)\n",
    "\n",
    "# Prédictions sur les textes de test\n",
    "predictions_pipeline = classifier(test_texts.tolist(), truncation=True, max_length=512)\n",
    "\n",
    "# Convertir les prédictions en étiquettes binaires\n",
    "y_pred_transformer = [1 if pred['label'] == 'LABEL_1' else 0 for pred in predictions_pipeline]\n",
    "\n",
    "# Évaluer les performances\n",
    "print(\"Transformers Pipeline:(ANGLAIS)\\n\", classification_report(test_labels, y_pred_transformer))\n"
   ]
  },
  {
   "cell_type": "code",
   "execution_count": 14,
   "id": "ffc66eb7-88bf-4355-8ae8-f1b293696933",
   "metadata": {},
   "outputs": [
    {
     "name": "stderr",
     "output_type": "stream",
     "text": [
      "Some weights of CamembertForSequenceClassification were not initialized from the model checkpoint at camembert-base and are newly initialized: ['classifier.dense.bias', 'classifier.dense.weight', 'classifier.out_proj.bias', 'classifier.out_proj.weight']\n",
      "You should probably TRAIN this model on a down-stream task to be able to use it for predictions and inference.\n",
      "Device set to use cpu\n"
     ]
    },
    {
     "name": "stdout",
     "output_type": "stream",
     "text": [
      "Transformers Pipeline (Français):\n",
      "               precision    recall  f1-score   support\n",
      "\n",
      "           0       0.12      1.00      0.22         1\n",
      "           1       1.00      0.61      0.76        18\n",
      "\n",
      "    accuracy                           0.63        19\n",
      "   macro avg       0.56      0.81      0.49        19\n",
      "weighted avg       0.95      0.63      0.73        19\n",
      "\n"
     ]
    }
   ],
   "source": [
    "import pandas as pd\n",
    "from sklearn.model_selection import train_test_split\n",
    "from sklearn.metrics import classification_report\n",
    "from transformers import pipeline\n",
    "\n",
    "# Charger le dataset en français\n",
    "df = pd.read_csv(\"data_fake_news_fr.csv\")\n",
    "\n",
    "# Nettoyer et préparer les données\n",
    "df = df.dropna(subset=['text', 'fake'])  # Supprimer les lignes avec des valeurs manquantes\n",
    "df = df[(df['text'].str.len() > 20) & (df['text'].str.len() < 512)]  # Filtrer les longueurs\n",
    "\n",
    "# Diviser les données en ensembles d'entraînement et de test\n",
    "train_texts, test_texts, train_labels, test_labels = train_test_split(\n",
    "    df['text'], df['fake'], test_size=0.2, random_state=42\n",
    ")\n",
    "\n",
    "# Charger le pipeline Transformers pour le français\n",
    "classifier = pipeline(\"text-classification\", model=\"camembert-base\", device=0)\n",
    "\n",
    "# Prédictions sur les textes de test\n",
    "predictions_pipeline = classifier(test_texts.tolist(), truncation=True, max_length=512)\n",
    "\n",
    "# Convertir les prédictions en étiquettes binaires\n",
    "y_pred_transformer = [1 if pred['label'] == 'LABEL_1' else 0 for pred in predictions_pipeline]\n",
    "\n",
    "# Évaluer les performances\n",
    "print(\"Transformers Pipeline (Français):\\n\", classification_report(test_labels, y_pred_transformer))\n"
   ]
  },
  {
   "cell_type": "markdown",
   "id": "2b423099-c5fc-436b-9a66-ec54e7d3322a",
   "metadata": {},
   "source": [
    "### 2.2 Finetuning d'un modèle de transformers"
   ]
  },
  {
   "cell_type": "code",
   "execution_count": 2,
   "id": "05de1492-16a9-4312-8335-f9e771e8a399",
   "metadata": {},
   "outputs": [
    {
     "name": "stderr",
     "output_type": "stream",
     "text": [
      "Some weights of DistilBertForSequenceClassification were not initialized from the model checkpoint at distilbert-base-uncased and are newly initialized: ['classifier.bias', 'classifier.weight', 'pre_classifier.bias', 'pre_classifier.weight']\n",
      "You should probably TRAIN this model on a down-stream task to be able to use it for predictions and inference.\n"
     ]
    },
    {
     "data": {
      "application/vnd.jupyter.widget-view+json": {
       "model_id": "47125873411b4f4e86e60f472ea2ec25",
       "version_major": 2,
       "version_minor": 0
      },
      "text/plain": [
       "Map:   0%|          | 0/1000 [00:00<?, ? examples/s]"
      ]
     },
     "metadata": {},
     "output_type": "display_data"
    },
    {
     "data": {
      "application/vnd.jupyter.widget-view+json": {
       "model_id": "90e6c781b80b438b818cf7ec8dd32c0f",
       "version_major": 2,
       "version_minor": 0
      },
      "text/plain": [
       "Map:   0%|          | 0/200 [00:00<?, ? examples/s]"
      ]
     },
     "metadata": {},
     "output_type": "display_data"
    },
    {
     "name": "stderr",
     "output_type": "stream",
     "text": [
      "C:\\Users\\simon\\AppData\\Local\\Programs\\Python\\Python310\\lib\\site-packages\\transformers\\training_args.py:1575: FutureWarning: `evaluation_strategy` is deprecated and will be removed in version 4.46 of 🤗 Transformers. Use `eval_strategy` instead\n",
      "  warnings.warn(\n",
      "C:\\Users\\simon\\AppData\\Local\\Temp\\ipykernel_13908\\1906958600.py:61: FutureWarning: `tokenizer` is deprecated and will be removed in version 5.0.0 for `Trainer.__init__`. Use `processing_class` instead.\n",
      "  trainer = Trainer(\n"
     ]
    },
    {
     "data": {
      "text/html": [
       "\n",
       "    <div>\n",
       "      \n",
       "      <progress value='32' max='32' style='width:300px; height:20px; vertical-align: middle;'></progress>\n",
       "      [32/32 04:45, Epoch 1/1]\n",
       "    </div>\n",
       "    <table border=\"1\" class=\"dataframe\">\n",
       "  <thead>\n",
       " <tr style=\"text-align: left;\">\n",
       "      <th>Step</th>\n",
       "      <th>Training Loss</th>\n",
       "      <th>Validation Loss</th>\n",
       "    </tr>\n",
       "  </thead>\n",
       "  <tbody>\n",
       "  </tbody>\n",
       "</table><p>"
      ],
      "text/plain": [
       "<IPython.core.display.HTML object>"
      ]
     },
     "metadata": {},
     "output_type": "display_data"
    },
    {
     "data": {
      "text/html": [
       "\n",
       "    <div>\n",
       "      \n",
       "      <progress value='7' max='7' style='width:300px; height:20px; vertical-align: middle;'></progress>\n",
       "      [7/7 00:12]\n",
       "    </div>\n",
       "    "
      ],
      "text/plain": [
       "<IPython.core.display.HTML object>"
      ]
     },
     "metadata": {},
     "output_type": "display_data"
    },
    {
     "name": "stdout",
     "output_type": "stream",
     "text": [
      "Résultats d'évaluation :\n",
      "{'eval_loss': 0.14361491799354553, 'eval_accuracy': 0.995, 'eval_precision': 1.0, 'eval_recall': 0.9910714285714286, 'eval_f1': 0.9955156950672646, 'eval_runtime': 15.5656, 'eval_samples_per_second': 12.849, 'eval_steps_per_second': 0.45, 'epoch': 1.0}\n"
     ]
    }
   ],
   "source": [
    "import pandas as pd\n",
    "from datasets import Dataset\n",
    "from transformers import AutoTokenizer, AutoModelForSequenceClassification, Trainer, TrainingArguments\n",
    "from sklearn.metrics import accuracy_score, precision_recall_fscore_support\n",
    "\n",
    "# Charger et limiter le dataset\n",
    "df = pd.read_csv(\"data_fake_news_en.csv\")\n",
    "df = df.dropna(subset=['text', 'label'])\n",
    "df = df[(df['text'].str.len() > 20) & (df['text'].str.len() < 512)]\n",
    "df['label'] = df['label'].apply(int)\n",
    "\n",
    "# Limiter à 1000 exemples pour l'entraînement et 200 pour le test\n",
    "train_df = df.sample(n=1000, random_state=42)\n",
    "test_df = df.sample(n=200, random_state=42)\n",
    "\n",
    "train_dataset = Dataset.from_pandas(train_df)\n",
    "test_dataset = Dataset.from_pandas(test_df)\n",
    "\n",
    "# Charger le tokenizer et le modèle\n",
    "model_name = \"distilbert-base-uncased\"\n",
    "tokenizer = AutoTokenizer.from_pretrained(model_name)\n",
    "model = AutoModelForSequenceClassification.from_pretrained(model_name, num_labels=2)\n",
    "\n",
    "# Tokenizer les données\n",
    "def tokenize_function(examples):\n",
    "    return tokenizer(examples[\"text\"], truncation=True, padding=\"max_length\", max_length=256)\n",
    "\n",
    "train_dataset = train_dataset.map(tokenize_function, batched=True)\n",
    "test_dataset = test_dataset.map(tokenize_function, batched=True)\n",
    "\n",
    "train_dataset = train_dataset.remove_columns([\"title\", \"text\"])\n",
    "test_dataset = test_dataset.remove_columns([\"title\", \"text\"])\n",
    "\n",
    "train_dataset = train_dataset.with_format(\"torch\")\n",
    "test_dataset = test_dataset.with_format(\"torch\")\n",
    "\n",
    "# Réduire les époques et ajuster les paramètres\n",
    "training_args = TrainingArguments(\n",
    "    output_dir=\"./results\",\n",
    "    evaluation_strategy=\"steps\",\n",
    "    eval_steps=500,\n",
    "    save_strategy=\"no\",\n",
    "    learning_rate=2e-5,\n",
    "    per_device_train_batch_size=32,\n",
    "    per_device_eval_batch_size=32,\n",
    "    num_train_epochs=1,  # Réduit à 1 époque\n",
    "    weight_decay=0.01,\n",
    "    logging_dir=\"./logs\",\n",
    "    logging_steps=10,\n",
    ")\n",
    "\n",
    "# Fonction de calcul des métriques\n",
    "def compute_metrics(eval_pred):\n",
    "    logits, labels = eval_pred\n",
    "    predictions = logits.argmax(axis=-1)\n",
    "    precision, recall, f1, _ = precision_recall_fscore_support(labels, predictions, average=\"binary\")\n",
    "    acc = accuracy_score(labels, predictions)\n",
    "    return {\"accuracy\": acc, \"precision\": precision, \"recall\": recall, \"f1\": f1}\n",
    "\n",
    "# Initialiser Trainer\n",
    "trainer = Trainer(\n",
    "    model=model,\n",
    "    args=training_args,\n",
    "    train_dataset=train_dataset,\n",
    "    eval_dataset=test_dataset,\n",
    "    tokenizer=tokenizer,\n",
    "    compute_metrics=compute_metrics,\n",
    ")\n",
    "\n",
    "# Entraîner le modèle\n",
    "trainer.train()\n",
    "\n",
    "# Évaluer le modèle\n",
    "results = trainer.evaluate()\n",
    "print(\"Résultats d'évaluation :\")\n",
    "print(results)\n"
   ]
  },
  {
   "cell_type": "code",
   "execution_count": null,
   "id": "8001a227-bc4f-4e45-9019-4dbf02e9b2fd",
   "metadata": {},
   "outputs": [],
   "source": []
  }
 ],
 "metadata": {
  "kernelspec": {
   "display_name": "Python 3 (ipykernel)",
   "language": "python",
   "name": "python3"
  },
  "language_info": {
   "codemirror_mode": {
    "name": "ipython",
    "version": 3
   },
   "file_extension": ".py",
   "mimetype": "text/x-python",
   "name": "python",
   "nbconvert_exporter": "python",
   "pygments_lexer": "ipython3",
   "version": "3.10.7"
  }
 },
 "nbformat": 4,
 "nbformat_minor": 5
}
