{
 "cells": [
  {
   "cell_type": "markdown",
   "metadata": {},
   "source": [
    "# TP 3 : Dynamic programming applied to the knapsack problem and the shortest path"
   ]
  },
  {
   "cell_type": "markdown",
   "metadata": {},
   "source": [
    "### Initialisation (à faire une seule fois)"
   ]
  },
  {
   "cell_type": "code",
   "execution_count": 17,
   "metadata": {},
   "outputs": [
    {
     "name": "stderr",
     "output_type": "stream",
     "text": [
      "\u001b[32m\u001b[1m   Resolving\u001b[22m\u001b[39m package versions...\n",
      "\u001b[32m\u001b[1m  No Changes\u001b[22m\u001b[39m to `~/.julia/environments/v1.9/Project.toml`\n",
      "\u001b[32m\u001b[1m  No Changes\u001b[22m\u001b[39m to `~/.julia/environments/v1.9/Manifest.toml`\n",
      "\u001b[32m\u001b[1m   Resolving\u001b[22m\u001b[39m package versions...\n",
      "\u001b[32m\u001b[1m  No Changes\u001b[22m\u001b[39m to `~/.julia/environments/v1.9/Project.toml`\n",
      "\u001b[32m\u001b[1m  No Changes\u001b[22m\u001b[39m to `~/.julia/environments/v1.9/Manifest.toml`\n"
     ]
    }
   ],
   "source": [
    "import Pkg; \n",
    "Pkg.add(\"GraphRecipes\"); Pkg.add(\"Plots\"); \n",
    "using GraphRecipes, Plots #only used to visualize the search tree at the end of the branch-and-bound"
   ]
  },
  {
   "cell_type": "markdown",
   "metadata": {},
   "source": [
    "### Récupération des données"
   ]
  },
  {
   "cell_type": "code",
   "execution_count": 16,
   "metadata": {},
   "outputs": [
    {
     "data": {
      "text/plain": [
       "readKnaptxtInstance (generic function with 1 method)"
      ]
     },
     "execution_count": 16,
     "metadata": {},
     "output_type": "execute_result"
    }
   ],
   "source": [
    "function readKnaptxtInstance(filename)\n",
    "    price=Int64[]\n",
    "    weight=Int64[]\n",
    "    KnapCap=Int64[]\n",
    "    open(filename) do f\n",
    "        for i in 1:3\n",
    "            tok = split(readline(f))\n",
    "            if(tok[1] == \"ListPrices=\")\n",
    "                for i in 2:(length(tok)-1)\n",
    "                    push!(price,parse(Int64, tok[i]))\n",
    "                end\n",
    "            elseif(tok[1] == \"ListWeights=\")\n",
    "                for i in 2:(length(tok)-1)\n",
    "                    push!(weight,parse(Int64, tok[i]))\n",
    "                end\n",
    "            elseif(tok[1] == \"Capacity=\")\n",
    "                push!(KnapCap, parse(Int64, tok[2]))\n",
    "            else\n",
    "                println(\"Unknown read :\", tok)\n",
    "            end\n",
    "        end\n",
    "    end\n",
    "    capacity=KnapCap[1]\n",
    "    return price, weight, capacity\n",
    "end"
   ]
  },
  {
   "cell_type": "markdown",
   "metadata": {},
   "source": [
    "### Problème du sac à dos\n"
   ]
  },
  {
   "cell_type": "code",
   "execution_count": 19,
   "metadata": {},
   "outputs": [
    {
     "data": {
      "text/plain": [
       "knapsack (generic function with 1 method)"
      ]
     },
     "execution_count": 19,
     "metadata": {},
     "output_type": "execute_result"
    }
   ],
   "source": [
    "function calculate_max_value(item_values, item_weights, item_index, current_capacity, dp_table)\n",
    "    # Base case: no capacity in knapsack\n",
    "    if current_capacity == 0\n",
    "        return 0\n",
    "    # If item's weight is more than current capacity, skip the item\n",
    "    elseif item_weights[item_index] > current_capacity\n",
    "        return dp_table[item_index - 1, current_capacity]\n",
    "    else\n",
    "        # Calculate value with and without the current item, choose the maximum\n",
    "        value_without_item = dp_table[item_index - 1, current_capacity]\n",
    "        value_with_item = dp_table[item_index - 1, current_capacity - item_weights[item_index]] + item_values[item_index]\n",
    "        return max(value_without_item, value_with_item)\n",
    "    end\n",
    "end\n",
    "\n",
    "function knapsack(item_values, item_weights, max_capacity)\n",
    "    num_items = length(item_values)\n",
    "    # Initialize a 2D matrix with zeros\n",
    "    dp_table = fill(0, (0:num_items, 0:max_capacity))\n",
    "\n",
    "    # Populate the dynamic programming table\n",
    "    for item_index in 1:num_items\n",
    "        for current_capacity in 0:max_capacity\n",
    "            dp_table[item_index, current_capacity] = calculate_max_value(item_values, item_weights, item_index, current_capacity, dp_table)\n",
    "        end\n",
    "    end\n",
    "\n",
    "    # Retrieve the maximum value that can be achieved with the given capacity\n",
    "    return dp_table[num_items, max_capacity]\n",
    "end\n"
   ]
  },
  {
   "cell_type": "markdown",
   "metadata": {},
   "source": [
    "## Procédure de séparation (branching) et stratégie d'exploration permettant de se placer au prochain noeud à traiter"
   ]
  },
  {
   "cell_type": "code",
   "execution_count": 13,
   "metadata": {},
   "outputs": [
    {
     "data": {
      "text/plain": [
       "SolveKnapInstance (generic function with 1 method)"
      ]
     },
     "execution_count": 13,
     "metadata": {},
     "output_type": "execute_result"
    }
   ],
   "source": [
    "function SolveKnapInstance(filename)\n",
    "\n",
    "    price, weight, capacity = readKnaptxtInstance(filename)\n",
    "    fct_obj = knapsack(price, weight, capacity)\n",
    "    return fct_obj\n",
    "end"
   ]
  },
  {
   "cell_type": "code",
   "execution_count": 6,
   "metadata": {},
   "outputs": [
    {
     "data": {
      "text/plain": [
       "220"
      ]
     },
     "execution_count": 6,
     "metadata": {},
     "output_type": "execute_result"
    }
   ],
   "source": [
    "# Valeurs des objets\n",
    "values = [60, 100, 120]\n",
    "# Poids des objets\n",
    "weights = [10, 20, 30]\n",
    "# Capacité du sac à dos\n",
    "capacity = 50\n",
    "\n",
    "knapsack(values, weights, capacity)"
   ]
  },
  {
   "cell_type": "markdown",
   "metadata": {},
   "source": [
    "### Boucle principale : résoudre une relaxation, appliquer les tests de sondabilité, identifier le prochain noeud, répéter."
   ]
  },
  {
   "cell_type": "code",
   "execution_count": 20,
   "metadata": {},
   "outputs": [
    {
     "name": "stdout",
     "output_type": "stream",
     "text": [
      "\n",
      "******\n",
      "\n",
      "Optimal value = 65\n",
      "Résultat pour ./InstancesKnapSack/almost_strongly_correlated/knapPI_5_50_1000_2_-1901.opb.txt: 2497\n",
      "Résultat pour ./InstancesKnapSack/almost_strongly_correlated/knapPI_5_50_1000_3_-1944.opb.txt: 2772\n",
      "Résultat pour ./InstancesKnapSack/strongly_correlated/knapPI_3_100_1000_4_-3773.opb.txt: 5673\n"
     ]
    }
   ],
   "source": [
    "result1 = SolveKnapInstance(\"./InstancesKnapSack/test.opb.txt\")\n",
    "println(\"\\n******\\n\\nOptimal value = \",result1)\n",
    "# Fonction pour lire les données d'un fichier\n",
    "function read_knapsack_data(filename)\n",
    "    # Vous devez implémenter cette fonction pour lire les données de chaque fichier\n",
    "    # et renvoyer item_values, item_weights, et max_capacity\n",
    "end\n",
    "\n",
    "# Liste des fichiers à tester\n",
    "files = [\"./InstancesKnapSack/almost_strongly_correlated/knapPI_5_50_1000_2_-1901.opb.txt\", \"./InstancesKnapSack/almost_strongly_correlated/knapPI_5_50_1000_3_-1944.opb.txt\", \"./InstancesKnapSack/strongly_correlated/knapPI_3_100_1000_4_-3773.opb.txt\"]\n",
    "\n",
    "# Boucle pour tester chaque fichier\n",
    "for file in files\n",
    "    item_values, item_weights, max_capacity = readKnaptxtInstance(file)\n",
    "    result = knapsack(item_values, item_weights, max_capacity)\n",
    "    println(\"Résultat pour $file: $result\")\n",
    "end"
   ]
  },
  {
   "cell_type": "code",
   "execution_count": 22,
   "metadata": {},
   "outputs": [
    {
     "ename": "LoadError",
     "evalue": "BoundsError: attempt to access Int64 at index [2]",
     "output_type": "error",
     "traceback": [
      "BoundsError: attempt to access Int64 at index [2]",
      "",
      "Stacktrace:",
      " [1] indexed_iterate(I::Int64, i::Int64, state::Nothing)",
      "   @ Base ./tuple.jl:97",
      " [2] top-level scope",
      "   @ ./In[22]:5"
     ]
    }
   ],
   "source": [
    "files = [\"InstancesKnapSack/almost_strongly_correlated/knapPI_5_50_1000_2_-1901.opb.txt\", \"InstancesKnapSack/almost_strongly_correlated/knapPI_5_50_1000_3_-1944.opb.txt\", \"InstancesKnapSack/strongly_correlated/knapPI_3_100_1000_4_-3773.opb.txt\"]\n",
    "\n",
    "for file in files\n",
    "    debut = time()\n",
    "    BestProfit, BestSolution = SolveKnapInstance(file)\n",
    "    fin = time()\n",
    "    temps = fin - debut\n",
    "    println(\"Résultat pour $file: $BestProfit\")\n",
    "    println(\"Temps pour $file: $temps\")\n",
    "    println(\"Solution pour $file: $BestSolution\")\n",
    "end"
   ]
  },
  {
   "cell_type": "markdown",
   "metadata": {},
   "source": [
    "### Affichage du résultat final"
   ]
  },
  {
   "cell_type": "code",
   "execution_count": 22,
   "metadata": {},
   "outputs": [
    {
     "data": {
      "text/plain": [
       "solveNdisplayKnap (generic function with 1 method)"
      ]
     },
     "execution_count": 22,
     "metadata": {},
     "output_type": "execute_result"
    }
   ],
   "source": [
    "function solveNdisplayKnap(filename)\n",
    "\n",
    "    println(\"\\n Branch-and-Bound for solving a knapsack problem. \\n\\n Solving instance '\" * filename * \"'\\n\")\n",
    "\n",
    "    BestProfit, Bestsol, trParentnodes, trChildnodes, trNamenodes = solveKnapInstance(filename)\n",
    "\n",
    "    println(\"\\n******\\n\\nOptimal value = \", BestProfit, \"\\n\\nOptimal x=\", Bestsol)\n",
    "\n",
    "    println(\"\\n Branch-and-bound tree visualization : start display ...\")\n",
    "    display(graphplot(trParentnodes, trChildnodes, names=trNamenodes, method=:tree))\n",
    "    println(\"... end display. \\n\\n\")\n",
    "\n",
    "end"
   ]
  },
  {
   "cell_type": "markdown",
   "metadata": {},
   "source": [
    "# Bonus"
   ]
  },
  {
   "cell_type": "code",
   "execution_count": 5,
   "metadata": {},
   "outputs": [
    {
     "data": {
      "text/plain": [
       "bellmanFord (generic function with 1 method)"
      ]
     },
     "execution_count": 5,
     "metadata": {},
     "output_type": "execute_result"
    }
   ],
   "source": [
    "function initializeDistances(graph, source)\n",
    "    n = size(graph, 1)\n",
    "    distances = fill(Inf, n)\n",
    "    distances[convert(Int, source)] = 0\n",
    "    return distances\n",
    "end\n",
    "\n",
    "function calculatePredecessors(graph)\n",
    "    n = size(graph, 1)\n",
    "    predecs = [Int[] for _ in 1:n]  # Crée un tableau de tableaux vides pour chaque sommet\n",
    "\n",
    "    for i in 1:n\n",
    "        for j in 1:n\n",
    "            if graph[i, j] != 0  # Vérifie s'il existe une arête du sommet i au sommet j\n",
    "                push!(predecs[j], i)  # Ajoute i comme prédécesseur de j\n",
    "            end\n",
    "        end\n",
    "    end\n",
    "\n",
    "    return predecs\n",
    "end\n",
    "\n",
    "\n",
    "function bellmanFord(graph, source)\n",
    "    n = size(graph, 1)\n",
    "    distances = initializeDistances(graph, source)\n",
    "    predecs = calculatePredecessors(graph)\n",
    "    predec = zeros(Int, n)\n",
    "\n",
    "    for iteration in 1:n\n",
    "        updated = false\n",
    "        for i in 1:n\n",
    "            for k in predecs[i]\n",
    "                new_distance = distances[k] + graph[k, i]\n",
    "                if new_distance < distances[i]\n",
    "                    distances[i] = new_distance\n",
    "                    predec[i] = k\n",
    "                    updated = true\n",
    "                end\n",
    "            end\n",
    "        end\n",
    "        if !updated\n",
    "            break\n",
    "        end\n",
    "    end\n",
    "\n",
    "    return distances, predec\n",
    "end\n"
   ]
  },
  {
   "cell_type": "code",
   "execution_count": 6,
   "metadata": {},
   "outputs": [
    {
     "data": {
      "text/plain": [
       "findShortestPath (generic function with 1 method)"
      ]
     },
     "execution_count": 6,
     "metadata": {},
     "output_type": "execute_result"
    }
   ],
   "source": [
    "function findShortestPath(graph, source, destination)\n",
    "    distances, predecessors = bellmanFord(graph, source)\n",
    "    path = []\n",
    "\n",
    "    # Construire le chemin en remontant depuis la destination jusqu'à la source\n",
    "    current_vertex = destination\n",
    "    while current_vertex != source\n",
    "        push!(path, current_vertex)\n",
    "        current_vertex = predecessors[convert(Int, current_vertex)]\n",
    "    end\n",
    "    push!(path, source)\n",
    "\n",
    "    # Inverser le chemin pour l'obtenir dans le bon ordre, de la source à la destination\n",
    "    return reverse(path)\n",
    "end\n"
   ]
  },
  {
   "cell_type": "code",
   "execution_count": 11,
   "metadata": {},
   "outputs": [
    {
     "name": "stdout",
     "output_type": "stream",
     "text": [
      "Test avec graphe 1\n",
      "Prédécesseurs : [0, 1, 2, 1, 2]\n",
      "\n",
      "Dernière ligne contenant les coûts : [0.0, 2.0, 5.0, 6.0, 7.0]\n",
      "\n",
      "Coût du chemin vers le sommet 5 : 7.0\n",
      "----------------------------------\n",
      "Test avec graphe 2\n",
      "Prédécesseurs : [0, 1, 2, 3]\n",
      "\n",
      "Dernière ligne contenant les coûts : [0.0, 4.0, 9.0, 12.0]\n",
      "\n",
      "Coût du chemin vers le sommet 4 : 12.0\n",
      "----------------------------------\n",
      "Test avec graphe 3\n",
      "Prédécesseurs : [0, 1, 1, 2, 4]\n",
      "\n",
      "Dernière ligne contenant les coûts : [0.0, 1.0, 4.0, 3.0, 4.0]\n",
      "\n",
      "Coût du chemin vers le sommet 5 : 4.0\n",
      "----------------------------------\n",
      "Chemin de 1 vers 5 : Any[1, 5]\n",
      "Chemin de 1 vers 6 : Any[1, 2, 3, 4, 6]\n",
      "Chemin de 2 vers 4 : Any[2, 3, 4]\n",
      "Chemin de 1 vers 5 : Any[1, 2, 5]\n",
      "Chemin de 1 vers 4 : Any[1, 2, 3, 4]\n",
      "Chemin de 1 vers 3 : Any[1, 3]\n"
     ]
    }
   ],
   "source": [
    "graph = [0 3 0 0 5 0;\n",
    "         0 0 4 0 0 0;\n",
    "         0 0 0 2 0 0;\n",
    "         0 0 0 0 0 3;\n",
    "         0 -1 0 9 0 0;\n",
    "         0 0 0 0 0 0]\n",
    "\n",
    "\n",
    " # Graphe 1\n",
    "graph1 = [0 2 0 6 0;\n",
    "2 0 3 8 5;\n",
    "0 3 0 0 7;\n",
    "6 8 0 0 9;\n",
    "0 5 7 9 0]\n",
    "\n",
    "# Graphe 2\n",
    "graph2 = [0 4 0 0;\n",
    "0 0 5 0;\n",
    "0 0 0 3;\n",
    "0 0 0 0]\n",
    "\n",
    "# Graphe 3\n",
    "graph3 = [0 1 4 0 0;\n",
    "0 0 0 2 0;\n",
    "0 0 0 3 0;\n",
    "0 0 0 0 1;\n",
    "0 0 0 0 0]\n",
    "\n",
    "\n",
    "# Fonction pour tester l'algorithme sur un graphe\n",
    "function testBellmanFord(graph, source)\n",
    "        distances, predecessors = bellmanFord(graph, source)\n",
    "        println(\"Prédécesseurs : \", predecessors)\n",
    "        println(\"\\nDernière ligne contenant les coûts : \", distances)\n",
    "        # Le sommet de destination pour le calcul du coût est le dernier sommet du graphe\n",
    "        destination = size(graph, 1)\n",
    "        println(\"\\nCoût du chemin vers le sommet \", destination, \" : \", distances[destination])\n",
    "        println(\"----------------------------------\")\n",
    "    end\n",
    "    \n",
    "    # Test sur chaque graphe\n",
    "    println(\"Test avec graphe 1\")\n",
    "    testBellmanFord(graph1, 1)\n",
    "    \n",
    "    println(\"Test avec graphe 2\")\n",
    "    testBellmanFord(graph2, 1)\n",
    "    \n",
    "    println(\"Test avec graphe 3\")\n",
    "    testBellmanFord(graph3, 1)\n",
    "\n",
    "# Trouver et afficher les chemins\n",
    "function printPath(graph, source, destination)\n",
    "    path = findShortestPath(graph, source, destination)\n",
    "    println(\"Chemin de \", source, \" vers \", destination, \" : \", path)\n",
    "end\n",
    "\n",
    "printPath(graph, source, 5)\n",
    "printPath(graph, source, 6)\n",
    "printPath(graph, 2, 4)\n",
    "printPath(graph1, source, 5)\n",
    "printPath(graph2, source, 4)\n",
    "printPath(graph3, source, 3)"
   ]
  },
  {
   "cell_type": "markdown",
   "metadata": {},
   "source": [
    "# 1-Programmation dynamique(Explication)\n"
   ]
  },
  {
   "cell_type": "markdown",
   "metadata": {},
   "source": [
    "La programmation dynamique est une technique algorithmique utilisée pour résoudre des problèmes complexes en les décomposant en sous-problèmes plus petits et en résolvant ces sous-problèmes une seule fois. Elle est particulièrement utile pour des problèmes où des sous-problèmes similaires se répètent plusieurs fois. En stockant les solutions des sous-problèmes, la programmation dynamique évite des calculs redondants, ce qui rend l'algorithme plus efficace.\n",
    "\n",
    "La relation de récurrence est l'élément clé de la programmation dynamique. Elle définit comment la solution d'un problème peut être exprimée en fonction des solutions de ses sous-problèmes. Par exemple, dans le problème du sac à dos, la relation de récurrence détermine la valeur maximale que l'on peut obtenir avec un ensemble d'objets et une capacité de sac donnée, en choisissant d'inclure ou non chaque objet. Cette approche assure que la solution optimale est construite à partir des solutions optimales des sous-problèmes."
   ]
  },
  {
   "cell_type": "markdown",
   "metadata": {},
   "source": [
    "# 2-Algorithme de programmation dynamique (Fonctionnement)"
   ]
  },
  {
   "cell_type": "markdown",
   "metadata": {},
   "source": [
    "# Fonction calculate_max_value\n",
    "Cette fonction calcule la valeur maximale pouvant être obtenue en considérant un objet spécifique à un indice donné (item_index) et une capacité actuelle du sac à dos (current_capacity). Elle utilise une table de programmation dynamique (dp_table) pour stocker et récupérer des valeurs calculées précédemment.\n",
    "\n",
    "Cas de base : Si la current_capacity est 0, cela signifie qu'aucun objet ne peut être ajouté au sac à dos. Par conséquent, la fonction renvoie 0.\n",
    "Poids Supérieur à la Capacité : Si le poids de l'objet actuel (item_weights[item_index]) est supérieur à la capacité actuelle du sac à dos, l'objet ne peut pas être ajouté. La fonction renvoie alors la valeur maximale obtenue sans cet objet, qui est déjà stockée dans dp_table.\n",
    "Calcul de la Valeur Maximale : Si l'objet peut potentiellement être ajouté au sac à dos, deux scénarios sont envisagés :\n",
    "Valeur sans l'objet actuel (value_without_item) : C'est la valeur maximale obtenue sans ajouter l'objet actuel au sac à dos.\n",
    "Valeur avec l'objet actuel (value_with_item) : C'est la valeur de l'objet actuel ajoutée à la valeur maximale obtenue avec le reste de la capacité du sac à dos après avoir ajouté l'objet.\n",
    "La fonction choisit la valeur maximale entre ces deux scénarios et la renvoie.\n",
    "# Fonction knapsack\n",
    "Cette fonction utilise calculate_max_value pour résoudre le problème du sac à dos pour un ensemble d'objets, chacun ayant une valeur et un poids, et pour une capacité maximale du sac à dos (max_capacity).\n",
    "\n",
    "Initialisation de la Table de Programmation Dynamique : Une table dp_table est initialisée avec des zéros pour stocker les valeurs maximales pour différentes combinaisons de nombres d'objets et de capacités de sac à dos.\n",
    "Remplissage de la Table : Le code itère sur chaque objet (item_index) et chaque capacité possible du sac à dos (current_capacity). À chaque itération, il appelle calculate_max_value pour obtenir la valeur maximale pour la combinaison actuelle et stocke cette valeur dans dp_table.\n",
    "Récupération de la Valeur Maximale : Une fois la table entièrement remplie, la valeur en dp_table[num_items, max_capacity] représente la valeur maximale que l'on peut obtenir avec tous les objets disponibles et la capacité maximale du sac à dos. Cette valeur est renvoyée en tant que résultat final de la fonction knapsack."
   ]
  }
 ],
 "metadata": {
  "kernelspec": {
   "display_name": "Julia 1.9.4",
   "language": "julia",
   "name": "julia-1.9"
  },
  "language_info": {
   "file_extension": ".jl",
   "mimetype": "application/julia",
   "name": "julia",
   "version": "1.9.4"
  }
 },
 "nbformat": 4,
 "nbformat_minor": 4
}
