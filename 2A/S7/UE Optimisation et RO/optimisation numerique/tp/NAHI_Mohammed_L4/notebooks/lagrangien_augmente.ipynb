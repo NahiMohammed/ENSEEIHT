{
 "cells": [
  {
   "cell_type": "markdown",
   "metadata": {},
   "source": [
    "<center>\n",
    "<h1> TP-Projet d'optimisation numérique </h1>\n",
    "<h1> Algorithme du lagrangien augmenté </h1>\n",
    "</center>"
   ]
  },
  {
   "cell_type": "markdown",
   "metadata": {},
   "source": [
    "## Implémentation\n",
    "\n",
    "1. Implémenter l'algorithme du lagrangien augmenté, en utilisant les différentes méthodes\n",
    "qui ont été vues en première partie pour la résolution de la suite de problèmes sans\n",
    "contraintes (fichier `src/lagrangien_augmente.jl`). La spécification est donnée dans le fichier.\n",
    "2. Vérifier que les tests ci-dessous passent.\n",
    " "
   ]
  },
  {
   "cell_type": "code",
   "execution_count": 1,
   "metadata": {},
   "outputs": [
    {
     "name": "stdout",
     "output_type": "stream",
     "text": [
      "Affichage des résultats des algorithmes : false\n",
      "\n",
      "\u001b[0m\u001b[1mTest Summary:         | \u001b[22m\u001b[32m\u001b[1mPass  \u001b[22m\u001b[39m\u001b[36m\u001b[1mTotal  \u001b[22m\u001b[39m\u001b[0m\u001b[1mTime\u001b[22m\n",
      "Lagrangien augmenté   | \u001b[32m  12  \u001b[39m\u001b[36m   12  \u001b[39m\u001b[0m5.6s\n"
     ]
    }
   ],
   "source": [
    "include(\"../src/lagrangien_augmente.jl\")\n",
    "include(\"../test/tester_lagrangien_augmente.jl\")\n",
    "\n",
    "#\n",
    "afficher = false # si true, alors affiche les résultats des algorithmes\n",
    "\n",
    "#\n",
    "tester_lagrangien_augmente(lagrangien_augmente, afficher);"
   ]
  },
  {
   "cell_type": "markdown",
   "metadata": {},
   "source": [
    "## Interprétation\n",
    "\n",
    " 1. Commenter les résultats obtenus, en étudiant notamment les valeurs en sortie de $\\lambda_k$ et $\\mu_k$.\n",
    " 2. Étudier l'influence du paramètre $\\tau$ dans la performance de l'algorithme. Pour cela Vous réaliserez des tests numériques."
   ]
  },
  {
   "cell_type": "code",
   "execution_count": 4,
   "metadata": {},
   "outputs": [
    {
     "name": "stdout",
     "output_type": "stream",
     "text": [
      "Influence de mu : -------------------------------------------------------------------------\n",
      "\u001b[34m\u001b[1mRésultats de : Lagrangien_Augmente_gct appliqué à f1 au point initial [0, -1, 1]:\u001b[22m\u001b[39m\n",
      "  * xsol = [0.4999979242839018, 1.2499980201070648, 0.5000019034459954]\n",
      "  * f(xsol) = 2.2500007752398163\n",
      "  * nb_iters = 10\n",
      "  * flag = 0\n",
      "  * sol_exacte : [0.5, 1.25, 0.5]\n",
      "pour μ0=0.1\n",
      "-------------------------------------------------------------------------\n",
      "\u001b[34m\u001b[1mRésultats de : Lagrangien_Augmente_gct appliqué à f1 au point initial [0, -1, 1]:\u001b[22m\u001b[39m\n",
      "  * xsol = [0.4999922790044423, 1.25000487466963, 0.5000077210502395]\n",
      "  * f(xsol) = 2.2499999999682103\n",
      "  * nb_iters = 17\n",
      "  * flag = 0\n",
      "  * sol_exacte : [0.5, 1.25, 0.5]\n",
      "pour μ0=10\n",
      "\n",
      " Influence de λ0 : -------------------------------------------------------------------------\n",
      "\u001b[34m\u001b[1mRésultats de : Lagrangien_Augmente_gct appliqué à f1 au point initial [0, -1, 1]:\u001b[22m\u001b[39m\n",
      "  * xsol = [0.4999922136817553, 1.2499981008851364, 0.5000076226426532]\n",
      "  * f(xsol) = 2.2500007366739956\n",
      "  * nb_iters = 9\n",
      "  * flag = 0\n",
      "  * sol_exacte : [0.5, 1.25, 0.5]\n",
      "pour λ0=2\n",
      "-------------------------------------------------------------------------\n",
      "\u001b[34m\u001b[1mRésultats de : Lagrangien_Augmente_gct appliqué à f1 au point initial [0, -1, 1]:\u001b[22m\u001b[39m\n",
      "  * xsol = [0.4999979049437579, 1.250000316784749, 0.5000021591166285]\n",
      "  * f(xsol) = 2.249999711737763\n",
      "  * nb_iters = 9\n",
      "  * flag = 0\n",
      "  * sol_exacte : [0.5, 1.25, 0.5]\n",
      "pour λ0=10\n",
      "\n",
      " Influence de tho : -------------------------------------------------------------------------\n",
      "\u001b[34m\u001b[1mRésultats de : Lagrangien_Augmente_gct appliqué à f1 au point initial [0, -1, 1]:\u001b[22m\u001b[39m\n",
      "  * xsol = [0.4999922136817553, 1.2499981008851364, 0.5000076226426532]\n",
      "  * f(xsol) = 2.2500007366739956\n",
      "  * nb_iters = 9\n",
      "  * flag = 0\n",
      "  * sol_exacte : [0.5, 1.25, 0.5]\n",
      "pour τ=400\n",
      "-------------------------------------------------------------------------\n",
      "\u001b[34m\u001b[1mRésultats de : Lagrangien_Augmente_gct appliqué à f1 au point initial [0, -1, 1]:\u001b[22m\u001b[39m\n",
      "  * xsol = [0.49999465192557785, 1.2499999206007177, 0.5000053480744449]\n",
      "  * f(xsol) = 2.250000000057127\n",
      "  * nb_iters = 5\n",
      "  * flag = 0\n",
      "  * sol_exacte : [0.5, 1.25, 0.5]\n",
      "pour τ=500\n",
      "1 .Comme le montrent les résultats des tests: \n",
      "Réduire correctement μ0 peut augmenter le nombre d'itérations de l'algorithme. \n",
      "Un μ0 trop petit  peut entraîner l'arrêt de l'itération de l'algorithme et aboutir à des résultats incorrects. \n",
      "Augmenter μ0  réduira le nombre d'itérations de l'algorithme. \n",
      "Augmenter ou diminuer λ0 n'entraînera pas de changements drastiques dans le nombre d'itérations.\n",
      "Lorsque τ diminue, le nombre d'itérations augmente et la précision de chaque itération diminue ; augmenter τ produit des résultats plus précis.\n"
     ]
    }
   ],
   "source": [
    "using LinearAlgebra\n",
    "using Markdown\n",
    "\n",
    "include(\"../src/newton.jl\")\n",
    "include(\"../src/regions_de_confiance.jl\")\n",
    "include(\"../src/cauchy.jl\")\n",
    "include(\"../src/gct.jl\")\n",
    "include(\"../src/lagrangien_augmente.jl\")\n",
    "\n",
    "function afficher3(algo,fct,point_init,x_sol,fsol,flag,sol_exacte,nbiters)\n",
    "\tprintln(\"-------------------------------------------------------------------------\")\n",
    "\tprintstyled(\"Résultats de : \",algo, \" appliqué à \",fct, \" au point initial \", point_init, \":\\n\",bold=true,color=:blue)\n",
    "\tprintln(\"  * xsol = \",x_sol)\n",
    "\tprintln(\"  * f(xsol) = \",fsol)\n",
    "\tprintln(\"  * nb_iters = \",nbiters)\n",
    "\tprintln(\"  * flag = \",flag)\n",
    "\tprintln(\"  * sol_exacte : \", sol_exacte)\n",
    "end\n",
    "\n",
    "fct1(x) =  2*(x[1]+x[2]+x[3]-3)^2 + (x[1]-x[2])^2 + (x[2]-x[3])^2\n",
    "# la gradient de la fonction fct1\n",
    "function grad_fct1(x)\n",
    "    y1 = 4*(x[1]+x[2]+x[3]-3) + 2*(x[1]-x[2])\n",
    "    y2 = 4*(x[1]+x[2]+x[3]-3) - 2*(x[1]-x[2]) +2*(x[2]-x[3])\n",
    "    y3 = 4*(x[1]+x[2]+x[3]-3) - 2*(x[2]-x[3])\n",
    "    return [y1;y2;y3]\n",
    "end\n",
    "# la hessienne de la fonction fct1\n",
    "    hess_fct1(x) = [6 2 4;2 8 2;4 2 6]\n",
    "    contrainte1(x) =  x[1]+x[3]-1\n",
    "    grad_contrainte1(x) = [1 ;0; 1]\n",
    "    hess_contrainte1(x) = [0 0 0;0 0 0;0 0 0]\n",
    "    sol_exacte = [0.5 ; 1.25 ; 0.5]\n",
    "    x0 = [0; -1; 1]\n",
    "\n",
    "# Influence de μ0\n",
    "print(\"Influence de mu : \")\n",
    "\n",
    "x_sol, f_sol, flag, nb_iters, muks, lambdaks = lagrangien_augmente(fct1, grad_fct1, hess_fct1,contrainte1, grad_contrainte1, hess_contrainte1, x0,μ0=5, algo_noc = \"rc-cauchy\")\n",
    "    afficher3(\"Lagrangien_Augmente_gct\", \"f1\", x0, x_sol, f_sol, flag, sol_exacte, nb_iters)\n",
    "println(\"pour μ0=0.1\")\n",
    "x_sol, f_sol, flag, nb_iters, muks, lambdaks = lagrangien_augmente(fct1, grad_fct1, hess_fct1,contrainte1, grad_contrainte1, hess_contrainte1, x0,μ0=400, algo_noc = \"rc-cauchy\")\n",
    "    afficher3(\"Lagrangien_Augmente_gct\", \"f1\", x0, x_sol, f_sol, flag, sol_exacte, nb_iters)\n",
    "println(\"pour μ0=10\")\n",
    "     \n",
    "# Influence de λ0 \n",
    "    print(\"\\n Influence de λ0 : \")\n",
    "    x_sol, f_sol, flag, nb_iters= lagrangien_augmente(fct1, grad_fct1, hess_fct1,contrainte1, grad_contrainte1, hess_contrainte1, x0,λ0=2, algo_noc = \"rc-cauchy\")\n",
    "    afficher3(\"Lagrangien_Augmente_gct\", \"f1\", x0, x_sol, f_sol, flag, sol_exacte, nb_iters)\n",
    "    println(\"pour λ0=2\")\n",
    "\n",
    "    x_sol, f_sol, flag, nb_iters= lagrangien_augmente(fct1, grad_fct1, hess_fct1,contrainte1, grad_contrainte1, hess_contrainte1, x0,λ0=10, algo_noc =\"rc-cauchy\")\n",
    "    afficher3(\"Lagrangien_Augmente_gct\", \"f1\", x0, x_sol, f_sol, flag, sol_exacte, nb_iters)\n",
    "    println(\"pour λ0=10\")\n",
    "# Influence de tho \n",
    "    print(\"\\n Influence de tho : \")\n",
    "    x_sol, f_sol, flag, nb_iters= lagrangien_augmente(fct1, grad_fct1, hess_fct1,contrainte1, grad_contrainte1, hess_contrainte1, x0,τ=2, algo_noc = \"rc-cauchy\")\n",
    "    afficher3(\"Lagrangien_Augmente_gct\", \"f1\", x0, x_sol, f_sol, flag, sol_exacte, nb_iters)\n",
    "    println(\"pour τ=400\")\n",
    "\n",
    "    x_sol, f_sol, flag, nb_iters= lagrangien_augmente(fct1, grad_fct1, hess_fct1,contrainte1, grad_contrainte1, hess_contrainte1, x0,τ=500, algo_noc =\"rc-cauchy\")\n",
    "    afficher3(\"Lagrangien_Augmente_gct\", \"f1\", x0, x_sol, f_sol, flag, sol_exacte, nb_iters)\n",
    "    println(\"pour τ=500\")\n",
    "println(\"1 .Comme le montrent les résultats des tests: \n",
    "Réduire correctement μ0 peut augmenter le nombre d'itérations de l'algorithme. \n",
    "Un μ0 trop petit  peut entraîner l'arrêt de l'itération de l'algorithme et aboutir à des résultats incorrects. \n",
    "Augmenter μ0  réduira le nombre d'itérations de l'algorithme. \")\n",
    "    println(\"Augmenter ou diminuer λ0 n'entraînera pas de changements drastiques dans le nombre d'itérations.\") \n",
    "        println(\"Lorsque τ diminue, le nombre d'itérations augmente et la précision de chaque itération diminue ; augmenter τ produit des résultats plus précis.\")"
   ]
  },
  {
   "cell_type": "code",
   "execution_count": null,
   "metadata": {},
   "outputs": [],
   "source": []
  }
 ],
 "metadata": {
  "kernelspec": {
   "display_name": "Julia 1.9.4",
   "language": "julia",
   "name": "julia-1.9"
  },
  "language_info": {
   "file_extension": ".jl",
   "mimetype": "application/julia",
   "name": "julia",
   "version": "1.9.4"
  }
 },
 "nbformat": 4,
 "nbformat_minor": 4
}
